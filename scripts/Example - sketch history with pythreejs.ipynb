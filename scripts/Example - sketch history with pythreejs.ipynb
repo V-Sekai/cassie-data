{
 "cells": [
  {
   "cell_type": "code",
   "execution_count": 1,
   "metadata": {},
   "outputs": [],
   "source": [
    "from utils.load import *\n",
    "\n",
    "# /!\\ pythreejs is a dependency, install it: https://pythreejs.readthedocs.io/en/stable/installing.html\n",
    "from utils.pythree_display import *"
   ]
  },
  {
   "cell_type": "code",
   "execution_count": 6,
   "metadata": {},
   "outputs": [],
   "source": [
    "# SKETCH FROM STUDY\n",
    "user_id = 2\n",
    "system_id = 2\n",
    "model_id = 2\n",
    "\n",
    "file_path = get_file_path(SKETCH_HISTORY_FOLDER, user_id, system_id, model_id)\n",
    "\n",
    "# SKETCH WITH FILE NAME\n",
    "# file_path = os.path.join(SKETCH_HISTORY_FOLDER, \"hat.json\")"
   ]
  },
  {
   "cell_type": "code",
   "execution_count": 7,
   "metadata": {},
   "outputs": [
    {
     "name": "stdout",
     "output_type": "stream",
     "text": [
      "Success\n"
     ]
    }
   ],
   "source": [
    "# Load sketch history data\n",
    "sketch_history = try_load_data(file_path)\n",
    "if sketch_history is not None:\n",
    "    print(\"Success\")"
   ]
  },
  {
   "cell_type": "code",
   "execution_count": 8,
   "metadata": {},
   "outputs": [
    {
     "data": {
      "application/vnd.jupyter.widget-view+json": {
       "model_id": "ba19b9cb65344c628260d287c94cd6d4",
       "version_major": 2,
       "version_minor": 0
      },
      "text/plain": [
       "Renderer(camera=PerspectiveCamera(aspect=1.5, position=(2.0, 3.0, 0.0), quaternion=(0.0, 0.0, 0.0, 1.0), scale…"
      ]
     },
     "metadata": {},
     "output_type": "display_data"
    }
   ],
   "source": [
    "# Display input strokes (only non deleted strokes)\n",
    "draw_strokes_samples([stroke[\"input_samples\"] for stroke in sketch_history if stroke[\"deletion_time\"] is None])"
   ]
  },
  {
   "cell_type": "code",
   "execution_count": 9,
   "metadata": {},
   "outputs": [
    {
     "data": {
      "application/vnd.jupyter.widget-view+json": {
       "model_id": "c21cb8a1bda747acaf86f16eb4c52da8",
       "version_major": 2,
       "version_minor": 0
      },
      "text/plain": [
       "Renderer(camera=PerspectiveCamera(aspect=1.5, position=(2.0, 3.0, 0.0), quaternion=(0.0, 0.0, 0.0, 1.0), scale…"
      ]
     },
     "metadata": {},
     "output_type": "display_data"
    }
   ],
   "source": [
    "# Display structured strokes (only non deleted strokes)\n",
    "draw_curves([stroke[\"ctrl_pts\"] for stroke in sketch_history if stroke[\"deletion_time\"] is None])"
   ]
  },
  {
   "cell_type": "code",
   "execution_count": null,
   "metadata": {},
   "outputs": [],
   "source": []
  }
 ],
 "metadata": {
  "kernelspec": {
   "display_name": "Python 3",
   "language": "python",
   "name": "python3"
  },
  "language_info": {
   "codemirror_mode": {
    "name": "ipython",
    "version": 3
   },
   "file_extension": ".py",
   "mimetype": "text/x-python",
   "name": "python",
   "nbconvert_exporter": "python",
   "pygments_lexer": "ipython3",
   "version": "3.7.4"
  }
 },
 "nbformat": 4,
 "nbformat_minor": 2
}
